{
 "cells": [
  {
   "cell_type": "markdown",
   "metadata": {},
   "source": [
    "# 2 label classification in classical ML and QML"
   ]
  },
  {
   "cell_type": "markdown",
   "metadata": {},
   "source": [
    "## classical classification"
   ]
  },
  {
   "cell_type": "markdown",
   "metadata": {},
   "source": [
    "#### Definition\n",
    "\n",
    "\\begin{align*}\n",
    "    {\\bf X} &= [{\\bf x}_1 {\\bf x}_2 \\cdots {\\bf x}_N ]^T \\quad {\\bf x}_1 = [x_{11},\\,.. ,\\,x_{1N}]^T \\quad (|{\\bf x}_i| = 2, \\quad N = 4 \\quad\\text{for OR dataset})\\\\\n",
    "    {\\bf W} &= [{\\bf w}_1 {\\bf w}_2 \\cdots {\\bf w}_m] \\quad{\\bf w}_i;\\text{weight vector for output i}  \\quad w_{ji}; \\text{weight of input j for output i} \\quad(|{\\bf w}_i| = 2, \\quad m = 2 \\quad\\text{for OR dataset})\\\\\n",
    "    \\hat{y}_{ij} &= \\text{softmax}({\\bf x}_i^T {\\bf w}_j + b), \n",
    "    \\quad {\\bf y}_1 = [y_{11},\\,.. ,\\,y_{1N}]^T\n",
    "\\end{align*}"
   ]
  },
  {
   "cell_type": "markdown",
   "metadata": {
    "id": "oNruNkKG4KrN"
   },
   "source": [
    "#### Model\n",
    "$$\n",
    "    {\\bf Y} = [{\\hat{\\bf y}}_1 {\\hat{\\bf y}}_2 \\cdots {\\hat{\\bf y}}_N]^{\\mathrm{T}}\n",
    "    = \\mathrm{softmax}({\\bf X}{\\bf W} + {\\bf B}) \\quad |Y| = N*|{\\bf w}_i| \\quad {\\bf B} = [{\\bf b}\\, {\\bf b}\\, \\cdots {\\bf b}]^{\\mathrm{T}}\\quad |{\\bf B}| = N * |{\\bf w}_i|\n",
    "$$"
   ]
  },
  {
   "cell_type": "markdown",
   "metadata": {},
   "source": [
    "#### Multiclass cross entropy loss function\n",
    "\n",
    "$$\n",
    "E ({\\bf x}, {\\bf y}; {\\bf W}, {\\bf b} ) =  -\\frac{1}{N}\\sum^N_{i=1} \\sum^K_{k=1} y_{i, k} \\log \\hat{y}_{i, k} ({\\bf x}^{\\mathrm{T}}_i {\\bf w}_k+b_k) \n",
    "$$"
   ]
  },
  {
   "cell_type": "markdown",
   "metadata": {
    "id": "UWW0Bsia4KrP"
   },
   "source": [
    "#### Learning\n",
    "\n",
    "\\begin{align*}\n",
    "    {\\bf \\delta}_i &= {\\bf \\hat{y}}_i - {\\bf y}_i\\\\\n",
    "    {\\bf \\Delta} &= [\\delta_1\\delta_2 \\cdots \\delta_N]\\\\\n",
    "    \\nabla_{\\bf W} E &= \\frac{1}{N} {\\bf X} {\\bf \\Delta}^{\\mathrm{T}}\\\\\n",
    "    \\nabla_{\\bf b} E &= \\frac{1}{N} {\\bf\\Delta}^{\\mathrm{T}}  \\\\\n",
    "    {\\bf W} &\\leftarrow {\\bf W} - \\epsilon \\nabla_{\\bf W} E \\\\\n",
    "    {\\bf B} &\\leftarrow {\\bf B} - \\epsilon \\nabla_{\\bf b} E \\\\\n",
    "\\end{align*}"
   ]
  },
  {
   "cell_type": "code",
   "execution_count": 1,
   "metadata": {},
   "outputs": [],
   "source": [
    "import numpy as np\n",
    "import matplotlib.pyplot as plt\n",
    "from sklearn.utils import shuffle\n",
    "\n",
    "np.random.seed(34)"
   ]
  },
  {
   "cell_type": "code",
   "execution_count": 10,
   "metadata": {},
   "outputs": [],
   "source": [
    "def softmax(x):\n",
    "    x -= x.max(axis=1, keepdims=True) # avoid exp overflow\n",
    "    x_exp = np.exp(x)\n",
    "    return x_exp / np.sum(x_exp, axis=1, keepdims=True)\n",
    "\n",
    "# avoid log(0)\n",
    "def np_log(x):\n",
    "    return np.log(np.clip(a=x, a_min=1e-10, a_max=1e+10))\n",
    "\n",
    "def train_or(x, y, W, b, eps=10):\n",
    "    \"\"\"\n",
    "    :param x: np.ndarray, inputs, shape=(batch_size, dim_input)\n",
    "    :param y: np.ndarray, outputs, shape=(batch_size, dim_output)\n",
    "    :param eps: float, learning rate\n",
    "    \"\"\"\n",
    "\n",
    "    batch_size = x.shape[0] # 4\n",
    "\n",
    "    y_hat = softmax(np.matmul(x, W) + b) # shape: x:(4,2) W:(2,2) b:2 y_hat:(4,2)\n",
    "\n",
    "    delta = y_hat - y # shape: delta:(4,2)\n",
    "\n",
    "    # update\n",
    "    dW = np.matmul(x.T, delta) / batch_size # (2,2)\n",
    "    db = np.matmul(np.ones(shape=(batch_size,)), delta) / batch_size # db 2,\n",
    "    W -= eps * dW\n",
    "    b -= eps * db\n",
    "\n",
    "    return W, b\n",
    "\n",
    "def valid_or(x, y, W, b):\n",
    "    y_hat = softmax(np.matmul(x, W) + b)\n",
    "    cost = (- y * np_log(y_hat)).mean() # y:(4,2) # cross entropy\n",
    "    return cost"
   ]
  },
  {
   "cell_type": "code",
   "execution_count": 11,
   "metadata": {},
   "outputs": [],
   "source": [
    "# OR gate\n",
    "x_train_or = np.array([[0, 1], [1, 0], [0, 0], [1, 1]])\n",
    "y_train_or = np.array([[1,0], [1,0], [0,1], [1,0]])\n",
    "x_valid_or, y_valid_or = x_train_or, y_train_or\n",
    "x_test_or, y_test_or = x_train_or, y_train_or\n",
    "\n",
    "# weights\n",
    "W = np.random.uniform(low=-0.08, high=0.08, size=(2, 2)).astype('float32')\n",
    "b = np.zeros(shape=(2,)).astype('float32')"
   ]
  },
  {
   "cell_type": "code",
   "execution_count": 12,
   "metadata": {},
   "outputs": [],
   "source": [
    "n = 100 # epochs\n",
    "cost_list = np.zeros(n)\n",
    "for epoch in range(n):\n",
    "    #x_train_or, y_train_or = shuffle(x_train_or, y_train_or)\n",
    "    W, b = train_or(x_train_or, y_train_or, W, b)\n",
    "    cost_list[epoch] = valid_or(x_valid_or, y_valid_or, W, b)"
   ]
  },
  {
   "cell_type": "code",
   "execution_count": 13,
   "metadata": {},
   "outputs": [
    {
     "name": "stdout",
     "output_type": "stream",
     "text": [
      "teacher data and prediction\n",
      "[1 0] [0.996231 0.003769]\n",
      "[1 0] [0.996232 0.003768]\n",
      "[0 1] [0.009428 0.990572]\n",
      "[1 0] [1. 0.]\n",
      "cost value  0.0021280481208577\n"
     ]
    }
   ],
   "source": [
    "y_pred = softmax(np.matmul(x_test_or, W) + b)\n",
    "k= y_pred.shape[0]\n",
    "print('teacher data and prediction')\n",
    "for j in range(k):\n",
    "    print(y_train_or[j],y_pred[j].round(6))\n",
    "\n",
    "print('cost value ', cost_list[-1])"
   ]
  },
  {
   "cell_type": "code",
   "execution_count": 14,
   "metadata": {},
   "outputs": [
    {
     "data": {
      "text/plain": [
       "[<matplotlib.lines.Line2D at 0x11a6ca100>]"
      ]
     },
     "execution_count": 14,
     "metadata": {},
     "output_type": "execute_result"
    },
    {
     "data": {
      "image/png": "[encoded data removed]",
      "text/plain": [
       "<Figure size 432x288 with 1 Axes>"
      ]
     },
     "metadata": {
      "needs_background": "light"
     },
     "output_type": "display_data"
    }
   ],
   "source": [
    "plt.plot(cost_list)"
   ]
  },
  {
   "cell_type": "markdown",
   "metadata": {},
   "source": [
    "## Quantum classification"
   ]
  },
  {
   "cell_type": "code",
   "execution_count": 81,
   "metadata": {},
   "outputs": [],
   "source": [
    "import pennylane as qml\n",
    "from pennylane import numpy as np\n",
    "import matplotlib.pyplot as plt\n",
    "from sklearn.utils import shuffle\n",
    "\n",
    "SOFTMAX_SCALE = 45\n",
    "\n",
    "def softmax(x):\n",
    "    x = np.array(x)\n",
    "    x -= x.max(axis=1, keepdims=True) # avoid exp overflow\n",
    "    x_exp = np.exp(x)\n",
    "    return x_exp / np.sum(x_exp, axis=1, keepdims=True)\n",
    "\n",
    "def one_hot(outputs):\n",
    "    nlabels = len(set(outputs))\n",
    "    return np.eye(nlabels)[outputs] # one-hot encoding.\n",
    "\n",
    "def np_log(x):\n",
    "    return np.log(np.clip(a=x, a_min=1e-10, a_max=1e+10))\n",
    "\n",
    "def func(weights, nqubits, nlabels, input = None):\n",
    "    qml.AngleEmbedding(input, wires=range(nqubits))\n",
    "    qml.Barrier(only_visual=True, wires=range(nqubits))\n",
    "    qml.StronglyEntanglingLayers(weights, wires=range(nqubits),)\n",
    "\n",
    "    return [qml.expval(qml.PauliZ(wires=i)) for i in range(nlabels)] # size 2 for OR dataset\n",
    "\n",
    "def cost_cross_entropy(params, nqubits, outputs, inputs):\n",
    "    device = qml.device(\"default.qubit\", wires=nqubits)\n",
    "    qcircuit = qml.QNode(func, device)\n",
    "\n",
    "    nlabels = len(set(outputs)) # 2\n",
    "\n",
    "    predictions = softmax([SOFTMAX_SCALE * qcircuit(params, nqubits, nlabels, input=x) for x in inputs]) # 4*2\n",
    "    one_hot_labels = one_hot(outputs) # 4*2\n",
    "\n",
    "    results = []\n",
    "    for (pd,l) in zip(predictions, one_hot_labels):\n",
    "        results.append(-np.sum([l[j]*np_log(pd[j]) for j in range(nlabels)]))\n",
    "\n",
    "    return np.mean(np.array(results))\n",
    "\n",
    "def opt(inputs, scaling_factor, outputs, nqubits, nlayers, stepsize, max_steps=200):\n",
    "    inputs = inputs * scaling_factor\n",
    "\n",
    "    shape = qml.StronglyEntanglingLayers.shape(n_layers=nlayers, n_wires=nqubits)\n",
    "    optweights = np.random.random(size=shape)\n",
    "\n",
    "    cost_list = []\n",
    "    opt = qml.AdamOptimizer(stepsize)\n",
    "    for step in range(max_steps):\n",
    "        optweights, cost_value = opt.step_and_cost(lambda w: cost_cross_entropy(w,nqubits,outputs,inputs), optweights)\n",
    "        cost_list.append(cost_value)\n",
    "        #print(\"{}\\n{}\".format(step,optweights))\n",
    "    print(\"Cost at step {} ---> {}\".format(step, cost_value))\n",
    "\n",
    "    return optweights, cost_list\n",
    "\n",
    "def draw_circuit(optweights, nqubits, inputs, outputs):\n",
    "    nlabels = len(set(outputs))\n",
    "    device = qml.device(\"default.qubit\", wires=nqubits)\n",
    "    qcircuit = qml.QNode(func, device)\n",
    "    fig = qml.draw_mpl(qcircuit, expansion_strategy=\"device\")(optweights, nqubits, nlabels, inputs[0])\n",
    "    plt.show()\n",
    "\n",
    "def plot_cost(cost_list):\n",
    "    plt.plot(cost_list)\n",
    "    plt.show()\n",
    "\n",
    "def compare_outputs(optweights, nqubits, scaling_factor, inputs, outputs):\n",
    "    nlabels = len(set(outputs))\n",
    "    device = qml.device(\"default.qubit\", wires=nqubits)\n",
    "    qcircuit = qml.QNode(func, device)\n",
    "    y_pred = softmax([SOFTMAX_SCALE * qcircuit(optweights, nqubits, nlabels, input=x) for x in inputs * scaling_factor])\n",
    "    for i in range(4):\n",
    "        print(one_hot(outputs)[i], y_pred[i].round(6))"
   ]
  },
  {
   "cell_type": "markdown",
   "metadata": {},
   "source": [
    "### Test"
   ]
  },
  {
   "cell_type": "code",
   "execution_count": 98,
   "metadata": {},
   "outputs": [],
   "source": [
    "inputs = np.array([[0, 0], [0, 1], [1, 0], [1, 1]])\n",
    "outputs = np.array([0, 1, 1, 1])\n",
    "scaling_factor = np.pi/2\n",
    "\n",
    "nqubits = 2; nlayers = 2; stepsize = 0.3;  max_steps = 300"
   ]
  },
  {
   "cell_type": "code",
   "execution_count": 99,
   "metadata": {},
   "outputs": [
    {
     "name": "stdout",
     "output_type": "stream",
     "text": [
      "Cost at step 299 ---> 5.72617345079227e-07\n"
     ]
    }
   ],
   "source": [
    "optweights, cost_list = opt(inputs, scaling_factor, outputs, nqubits, nlayers, stepsize, max_steps)"
   ]
  },
  {
   "cell_type": "code",
   "execution_count": 100,
   "metadata": {},
   "outputs": [
    {
     "data": {
      "image/png": "[encoded data removed]",
      "text/plain": [
       "<Figure size 720x216 with 1 Axes>"
      ]
     },
     "metadata": {},
     "output_type": "display_data"
    },
    {
     "data": {
      "image/png": "[encoded data removed]",
      "text/plain": [
       "<Figure size 432x288 with 1 Axes>"
      ]
     },
     "metadata": {
      "needs_background": "light"
     },
     "output_type": "display_data"
    }
   ],
   "source": [
    "draw_circuit(optweights, nqubits, inputs, outputs)\n",
    "\n",
    "plot_cost(cost_list)"
   ]
  },
  {
   "cell_type": "code",
   "execution_count": 101,
   "metadata": {},
   "outputs": [
    {
     "name": "stdout",
     "output_type": "stream",
     "text": [
      "[1. 0.] [9.99999e-01 1.00000e-06]\n",
      "[0. 1.] [1.00000e-06 9.99999e-01]\n",
      "[0. 1.] [0. 1.]\n",
      "[0. 1.] [0. 1.]\n"
     ]
    }
   ],
   "source": [
    "compare_outputs(optweights, nqubits, scaling_factor, inputs, outputs)"
   ]
  },
  {
   "cell_type": "markdown",
   "metadata": {},
   "source": [
    "### Inputs scaling factor vs optimized cost value\n",
    "\n",
    "Instead of using the inputs data directly, we multiply the inputs data by a scaling factor."
   ]
  },
  {
   "cell_type": "code",
   "execution_count": 57,
   "metadata": {},
   "outputs": [],
   "source": [
    "inputs = np.array([[0, 0], [0, 1], [1, 0], [1, 1]])\n",
    "outputs = np.array([0, 1, 1, 1])\n",
    "scaling_factor_list = np.linspace(0.1, 2, 20) * np.pi\n",
    "\n",
    "nqubits = 2; nlayers = 2; stepsize = 0.3; max_steps = 300"
   ]
  },
  {
   "cell_type": "code",
   "execution_count": 58,
   "metadata": {},
   "outputs": [
    {
     "name": "stdout",
     "output_type": "stream",
     "text": [
      "Cost at step 299 ---> 0.0005242638251825441\n",
      "Cost at step 299 ---> 2.179320119542987e-06\n",
      "Cost at step 299 ---> 1.9971325318921784e-06\n",
      "Cost at step 299 ---> 3.0359623030576325e-07\n",
      "Cost at step 299 ---> 5.72617345079227e-07\n",
      "Cost at step 299 ---> 1.2269201226583617e-09\n",
      "Cost at step 299 ---> 9.261438523740881e-09\n",
      "Cost at step 299 ---> 4.6312043585578844e-05\n",
      "Cost at step 299 ---> 3.9555102567016034e-05\n",
      "Cost at step 299 ---> 5.294173479715157e-06\n",
      "Cost at step 299 ---> 2.7946609321219904e-06\n",
      "Cost at step 299 ---> 5.787781606402298e-08\n",
      "Cost at step 299 ---> 1.5602861573704598e-06\n",
      "Cost at step 299 ---> 1.045685893080484e-06\n",
      "Cost at step 299 ---> 1.6710498889518756e-06\n",
      "Cost at step 299 ---> 3.3305198677509526e-06\n",
      "Cost at step 299 ---> 3.1694896075246204e-06\n",
      "Cost at step 299 ---> 2.7270746708156934e-05\n",
      "Cost at step 299 ---> 0.0005046880420169657\n",
      "Cost at step 299 ---> 0.5623351446188141\n"
     ]
    }
   ],
   "source": [
    "cost_scaling_factor_list = []\n",
    "for scaling_factor in scaling_factor_list:\n",
    "    optweights, cost_list = opt(inputs, scaling_factor, outputs, nqubits, nlayers, stepsize, max_steps)\n",
    "    cost_scaling_factor_list.append(cost_list[-1])"
   ]
  },
  {
   "cell_type": "code",
   "execution_count": 59,
   "metadata": {},
   "outputs": [
    {
     "data": {
      "image/png": "[encoded data removed]",
      "text/plain": [
       "<Figure size 432x288 with 1 Axes>"
      ]
     },
     "metadata": {
      "needs_background": "light"
     },
     "output_type": "display_data"
    }
   ],
   "source": [
    "plt.semilogy(scaling_factor_list, cost_scaling_factor_list)\n",
    "plt.show()"
   ]
  },
  {
   "cell_type": "markdown",
   "metadata": {},
   "source": [
    "seems periodic"
   ]
  },
  {
   "cell_type": "markdown",
   "metadata": {},
   "source": [
    "### Number of qubits vs optimized cost value"
   ]
  },
  {
   "cell_type": "code",
   "execution_count": 66,
   "metadata": {},
   "outputs": [],
   "source": [
    "scaling_factor = np.pi/2\n",
    "inputs = np.array([[0, 0], [0, 1], [1, 0], [1, 1]])\n",
    "outputs = np.array([0, 1, 1, 1])\n",
    "\n",
    "nqubits_list = [2, 3, 4, 5, 6, 7, 8, 9]; stepsize = 0.3; max_steps = 300"
   ]
  },
  {
   "cell_type": "code",
   "execution_count": 61,
   "metadata": {},
   "outputs": [
    {
     "name": "stdout",
     "output_type": "stream",
     "text": [
      "Cost at step 299 ---> 5.72617345079227e-07\n",
      "Cost at step 299 ---> 3.158092806240861e-06\n",
      "Cost at step 299 ---> 7.581887761139157e-07\n",
      "Cost at step 299 ---> 4.1334825960486335e-06\n",
      "Cost at step 299 ---> 6.185528451022916e-05\n",
      "Cost at step 299 ---> 2.277038433047394e-06\n",
      "Cost at step 299 ---> 3.5838564817359993e-06\n",
      "Cost at step 299 ---> 3.1260774999529483e-06\n"
     ]
    }
   ],
   "source": [
    "nlayers = 2\n",
    "cost_nqubits_list = []\n",
    "for nqubits in nqubits_list:\n",
    "    optweights, cost_list = opt(inputs, scaling_factor, outputs, nqubits, nlayers, stepsize, max_steps)\n",
    "    cost_nqubits_list.append(cost_list[-1])"
   ]
  },
  {
   "cell_type": "code",
   "execution_count": 62,
   "metadata": {},
   "outputs": [
    {
     "data": {
      "image/png": "[encoded data removed]",
      "text/plain": [
       "<Figure size 432x288 with 1 Axes>"
      ]
     },
     "metadata": {
      "needs_background": "light"
     },
     "output_type": "display_data"
    }
   ],
   "source": [
    "plt.semilogy(nqubits_list, cost_nqubits_list)\n",
    "plt.xlabel(\"Number of qubits\")\n",
    "plt.ylabel(\"Cost\")\n",
    "plt.title(\"nqubits vs cost, layers = 2\")\n",
    "plt.show()"
   ]
  },
  {
   "cell_type": "code",
   "execution_count": 67,
   "metadata": {},
   "outputs": [
    {
     "name": "stdout",
     "output_type": "stream",
     "text": [
      "Cost at step 299 ---> 5.407811981530873e-10\n",
      "Cost at step 299 ---> 6.458523702219017e-07\n",
      "Cost at step 299 ---> 3.858369330338247e-06\n",
      "Cost at step 299 ---> 5.4040637425688805e-06\n",
      "Cost at step 299 ---> 2.2378152793074383e-06\n",
      "Cost at step 299 ---> 1.1264697233473757e-05\n",
      "Cost at step 299 ---> 8.551879296937744e-07\n",
      "Cost at step 299 ---> 3.6422981434696717e-06\n"
     ]
    }
   ],
   "source": [
    "nlayers = 3\n",
    "cost_nqubits_list = []\n",
    "for nqubits in nqubits_list:\n",
    "    optweights, cost_list = opt(inputs, scaling_factor, outputs, nqubits, nlayers, stepsize, max_steps)\n",
    "    cost_nqubits_list.append(cost_list[-1])"
   ]
  },
  {
   "cell_type": "code",
   "execution_count": 68,
   "metadata": {},
   "outputs": [
    {
     "data": {
      "image/png": "[encoded data removed]",
      "text/plain": [
       "<Figure size 432x288 with 1 Axes>"
      ]
     },
     "metadata": {
      "needs_background": "light"
     },
     "output_type": "display_data"
    }
   ],
   "source": [
    "plt.semilogy(nqubits_list, cost_nqubits_list)\n",
    "plt.xlabel(\"Number of qubits\")\n",
    "plt.ylabel(\"Cost\")\n",
    "plt.title(\"nqubits vs cost, layers = 3\")\n",
    "plt.show()"
   ]
  },
  {
   "cell_type": "markdown",
   "metadata": {},
   "source": [
    "### Number of layers vs optimized cost value"
   ]
  },
  {
   "cell_type": "code",
   "execution_count": 63,
   "metadata": {},
   "outputs": [],
   "source": [
    "scaling_factor = np.pi/2\n",
    "inputs = np.array([[0, 0], [0, 1], [1, 0], [1, 1]])\n",
    "outputs = np.array([0, 1, 1, 1])\n",
    "\n",
    "nqubits = 2; nlayers_list = [1, 2, 3, 4, 5, 6, 7, 8, 9]\n",
    "stepsize = 0.3; max_steps = 300"
   ]
  },
  {
   "cell_type": "code",
   "execution_count": 64,
   "metadata": {},
   "outputs": [
    {
     "name": "stdout",
     "output_type": "stream",
     "text": [
      "Cost at step 299 ---> 0.21388171830333447\n",
      "Cost at step 299 ---> 5.72617345079227e-07\n",
      "Cost at step 299 ---> 5.407811981530873e-10\n",
      "Cost at step 299 ---> 2.091405773872578e-06\n",
      "Cost at step 299 ---> 4.802318654334764e-06\n",
      "Cost at step 299 ---> 6.357165085976118e-07\n",
      "Cost at step 299 ---> 2.4267663992773823e-07\n",
      "Cost at step 299 ---> 2.207604303559419e-09\n",
      "Cost at step 299 ---> 4.385496260847064e-07\n"
     ]
    }
   ],
   "source": [
    "cost_nlayers_list = []\n",
    "for nlayers in nlayers_list:\n",
    "    optweights, cost_list = opt(inputs, scaling_factor, outputs, nqubits, nlayers, stepsize, max_steps)\n",
    "    cost_nlayers_list.append(cost_list[-1])"
   ]
  },
  {
   "cell_type": "code",
   "execution_count": 65,
   "metadata": {},
   "outputs": [
    {
     "data": {
      "image/png": "[encoded data removed]",
      "text/plain": [
       "<Figure size 432x288 with 1 Axes>"
      ]
     },
     "metadata": {
      "needs_background": "light"
     },
     "output_type": "display_data"
    }
   ],
   "source": [
    "plt.semilogy(nlayers_list, cost_nlayers_list)\n",
    "plt.xlabel(\"Number of layers\")\n",
    "plt.ylabel(\"Cost\")\n",
    "plt.show()"
   ]
  }
 ],
 "metadata": {
  "kernelspec": {
   "display_name": "Python 3.8.9 ('venv')",
   "language": "python",
   "name": "python3"
  },
  "language_info": {
   "codemirror_mode": {
    "name": "ipython",
    "version": 3
   },
   "file_extension": ".py",
   "mimetype": "text/x-python",
   "name": "python",
   "nbconvert_exporter": "python",
   "pygments_lexer": "ipython3",
   "version": "3.8.9"
  },
  "orig_nbformat": 4,
  "vscode": {
   "interpreter": {
    "hash": "14954d4bdd6d1be1261fd3a222ff876dc721b02a4dc0fc97e9efc2184902f67a"
   }
  }
 },
 "nbformat": 4,
 "nbformat_minor": 2
}
